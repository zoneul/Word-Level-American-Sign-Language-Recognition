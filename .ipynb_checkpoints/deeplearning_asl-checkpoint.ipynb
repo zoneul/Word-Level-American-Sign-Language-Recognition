{
 "cells": [
  {
   "cell_type": "code",
   "execution_count": 1,
   "id": "dc8b6746",
   "metadata": {},
   "outputs": [
    {
     "name": "stdout",
     "output_type": "stream",
     "text": [
      "Requirement already satisfied: mediapipe in c:\\users\\user\\anaconda3\\envs\\dl_env\\lib\\site-packages (0.10.9)\n",
      "Requirement already satisfied: absl-py in c:\\users\\user\\anaconda3\\envs\\dl_env\\lib\\site-packages (from mediapipe) (1.4.0)\n",
      "Requirement already satisfied: attrs>=19.1.0 in c:\\users\\user\\anaconda3\\envs\\dl_env\\lib\\site-packages (from mediapipe) (23.1.0)\n",
      "Requirement already satisfied: flatbuffers>=2.0 in c:\\users\\user\\anaconda3\\envs\\dl_env\\lib\\site-packages (from mediapipe) (23.5.26)\n",
      "Requirement already satisfied: matplotlib in c:\\users\\user\\anaconda3\\envs\\dl_env\\lib\\site-packages (from mediapipe) (3.8.2)\n",
      "Requirement already satisfied: numpy in c:\\users\\user\\anaconda3\\envs\\dl_env\\lib\\site-packages (from mediapipe) (1.26.2)\n",
      "Requirement already satisfied: opencv-contrib-python in c:\\users\\user\\anaconda3\\envs\\dl_env\\lib\\site-packages (from mediapipe) (4.9.0.80)\n",
      "Requirement already satisfied: protobuf<4,>=3.11 in c:\\users\\user\\anaconda3\\envs\\dl_env\\lib\\site-packages (from mediapipe) (3.20.3)\n",
      "Requirement already satisfied: sounddevice>=0.4.4 in c:\\users\\user\\anaconda3\\envs\\dl_env\\lib\\site-packages (from mediapipe) (0.4.6)\n",
      "Requirement already satisfied: CFFI>=1.0 in c:\\users\\user\\anaconda3\\envs\\dl_env\\lib\\site-packages (from sounddevice>=0.4.4->mediapipe) (1.16.0)\n",
      "Requirement already satisfied: contourpy>=1.0.1 in c:\\users\\user\\anaconda3\\envs\\dl_env\\lib\\site-packages (from matplotlib->mediapipe) (1.2.0)\n",
      "Requirement already satisfied: cycler>=0.10 in c:\\users\\user\\anaconda3\\envs\\dl_env\\lib\\site-packages (from matplotlib->mediapipe) (0.12.1)\n",
      "Requirement already satisfied: fonttools>=4.22.0 in c:\\users\\user\\anaconda3\\envs\\dl_env\\lib\\site-packages (from matplotlib->mediapipe) (4.47.0)\n",
      "Requirement already satisfied: kiwisolver>=1.3.1 in c:\\users\\user\\anaconda3\\envs\\dl_env\\lib\\site-packages (from matplotlib->mediapipe) (1.4.5)\n",
      "Requirement already satisfied: packaging>=20.0 in c:\\users\\user\\anaconda3\\envs\\dl_env\\lib\\site-packages (from matplotlib->mediapipe) (23.2)\n",
      "Requirement already satisfied: pillow>=8 in c:\\users\\user\\anaconda3\\envs\\dl_env\\lib\\site-packages (from matplotlib->mediapipe) (10.1.0)\n",
      "Requirement already satisfied: pyparsing>=2.3.1 in c:\\users\\user\\anaconda3\\envs\\dl_env\\lib\\site-packages (from matplotlib->mediapipe) (2.4.7)\n",
      "Requirement already satisfied: python-dateutil>=2.7 in c:\\users\\user\\anaconda3\\envs\\dl_env\\lib\\site-packages (from matplotlib->mediapipe) (2.8.2)\n",
      "Requirement already satisfied: pycparser in c:\\users\\user\\anaconda3\\envs\\dl_env\\lib\\site-packages (from CFFI>=1.0->sounddevice>=0.4.4->mediapipe) (2.21)\n",
      "Requirement already satisfied: six>=1.5 in c:\\users\\user\\anaconda3\\envs\\dl_env\\lib\\site-packages (from python-dateutil>=2.7->matplotlib->mediapipe) (1.16.0)\n",
      "Note: you may need to restart the kernel to use updated packages.\n"
     ]
    }
   ],
   "source": [
    "pip install mediapipe"
   ]
  },
  {
   "cell_type": "code",
   "execution_count": 2,
   "id": "61bb7e25",
   "metadata": {},
   "outputs": [
    {
     "name": "stdout",
     "output_type": "stream",
     "text": [
      "book\n",
      "train 69241\n",
      "train 07069\n",
      "train 07068\n",
      "train 07070\n"
     ]
    },
    {
     "ename": "KeyboardInterrupt",
     "evalue": "",
     "output_type": "error",
     "traceback": [
      "\u001b[1;31m---------------------------------------------------------------------------\u001b[0m",
      "\u001b[1;31mKeyboardInterrupt\u001b[0m                         Traceback (most recent call last)",
      "Cell \u001b[1;32mIn[2], line 91\u001b[0m\n\u001b[0;32m     89\u001b[0m test_dir \u001b[38;5;241m=\u001b[39m os\u001b[38;5;241m.\u001b[39mpath\u001b[38;5;241m.\u001b[39mjoin(dataset_dir, \u001b[38;5;124m'\u001b[39m\u001b[38;5;124mTest\u001b[39m\u001b[38;5;124m'\u001b[39m, class_name, video_id)\n\u001b[0;32m     90\u001b[0m os\u001b[38;5;241m.\u001b[39mmakedirs(test_dir, exist_ok\u001b[38;5;241m=\u001b[39m\u001b[38;5;28;01mTrue\u001b[39;00m)\n\u001b[1;32m---> 91\u001b[0m \u001b[43mvidToFrame\u001b[49m\u001b[43m(\u001b[49m\u001b[43mvideo_file\u001b[49m\u001b[43m,\u001b[49m\u001b[43m \u001b[49m\u001b[43mtest_dir\u001b[49m\u001b[43m)\u001b[49m\n\u001b[0;32m     92\u001b[0m \u001b[38;5;28mprint\u001b[39m(\u001b[38;5;124m'\u001b[39m\u001b[38;5;124mtest\u001b[39m\u001b[38;5;124m'\u001b[39m, video_id)\n",
      "Cell \u001b[1;32mIn[2], line 41\u001b[0m, in \u001b[0;36mvidToFrame\u001b[1;34m(vid_file, out_dir)\u001b[0m\n\u001b[0;32m     36\u001b[0m             cv2\u001b[38;5;241m.\u001b[39mimwrite(frame_path, frame)\n\u001b[0;32m     39\u001b[0m \u001b[38;5;66;03m#        cv2.imshow('frame', frame)\u001b[39;00m\n\u001b[1;32m---> 41\u001b[0m         \u001b[38;5;28;01mif\u001b[39;00m \u001b[43mcv2\u001b[49m\u001b[38;5;241;43m.\u001b[39;49m\u001b[43mwaitKey\u001b[49m\u001b[43m(\u001b[49m\u001b[38;5;241;43m20\u001b[39;49m\u001b[43m)\u001b[49m \u001b[38;5;241m&\u001b[39m \u001b[38;5;241m0xFF\u001b[39m \u001b[38;5;241m==\u001b[39m \u001b[38;5;28mord\u001b[39m(\u001b[38;5;124m'\u001b[39m\u001b[38;5;124mq\u001b[39m\u001b[38;5;124m'\u001b[39m) :\n\u001b[0;32m     42\u001b[0m             \u001b[38;5;28;01mbreak\u001b[39;00m\n\u001b[0;32m     44\u001b[0m     \u001b[38;5;66;03m# Release the video capture object\u001b[39;00m\n",
      "\u001b[1;31mKeyboardInterrupt\u001b[0m: "
     ]
    }
   ],
   "source": [
    "import os\n",
    "import cv2\n",
    "import shutil\n",
    "import time\n",
    "import json\n",
    "\n",
    "\n",
    "def vidToFrame(vid_file,out_dir):\n",
    "\n",
    "\n",
    "    video_capture = cv2.VideoCapture(vid_file)\n",
    "\n",
    "    output_folder = out_dir\n",
    "    #shutil.rmtree(output_folder)\n",
    "    # Create the output folder if it doesn't exist\n",
    "    os.makedirs(output_folder, exist_ok=True)\n",
    "\n",
    "    # Initialize frame count and flag\n",
    "    vid_cnt = 0\n",
    "    success = True\n",
    "\n",
    "\n",
    "\n",
    "    # Read the next frame\n",
    "    #success, frame = video_capture.read()\n",
    "\n",
    "    \n",
    "    frame_count=0\n",
    "    while frame_count < 48:\n",
    "        \n",
    "        frame_count += 1\n",
    "        success, frame = video_capture.read()\n",
    "        frame_path = os.path.join(output_folder, f\"frame_{frame_count}.jpg\")\n",
    "\n",
    "        if frame is not None:\n",
    "            cv2.imwrite(frame_path, frame)\n",
    "\n",
    "        \n",
    "#        cv2.imshow('frame', frame)\n",
    "        \n",
    "        if cv2.waitKey(20) & 0xFF == ord('q') :\n",
    "            break\n",
    "\n",
    "    # Release the video capture object\n",
    "    video_capture.release()\n",
    "    cv2.destroyAllWindows()\n",
    "\n",
    "\n",
    "file_path = 'WLASL_v0.3.json'\n",
    "missing_file_path = 'missing.txt'\n",
    "videos_dir = './videos/'\n",
    "\n",
    "#videos_ourInput = './videos_ourInput'\n",
    "#file_path_ourInput = 'WLASL_ourInput_v0.3.json'\n",
    "\n",
    "# Load the WLASL dataset\n",
    "with open(file_path) as file:\n",
    "    wlasl = json.load(file)\n",
    "\n",
    "# Read the missing video IDs from the file\n",
    "with open(missing_file_path, 'r') as file:\n",
    "    missing_videos = file.read().splitlines()\n",
    "\n",
    "# Specify the base directory for the dataset\n",
    "dataset_dir = 'Dataset/frames'\n",
    "\n",
    "# Create necessary directories\n",
    "os.makedirs(dataset_dir, exist_ok=True)\n",
    "os.makedirs(os.path.join(dataset_dir, 'Train'), exist_ok=True)\n",
    "os.makedirs(os.path.join(dataset_dir, 'Test'), exist_ok=True)\n",
    "\n",
    "# Process each class in the WLASL dataset\n",
    "for class_data in wlasl:\n",
    "    class_name = class_data['gloss']\n",
    "    print(class_name)\n",
    "    \n",
    "    for instance in class_data['instances']:\n",
    "        video_id = instance['video_id']\n",
    "        \n",
    "        if video_id not in missing_videos:\n",
    "            video_file = os.path.join(videos_dir, video_id + '.mp4')\n",
    "    \n",
    "            if instance['split'] == 'train':\n",
    "                train_dir = os.path.join(dataset_dir, 'Train', class_name, video_id)\n",
    "                os.makedirs(train_dir, exist_ok=True)\n",
    "                vidToFrame(video_file, train_dir)\n",
    "                print('train', video_id)\n",
    "            else:\n",
    "                test_dir = os.path.join(dataset_dir, 'Test', class_name, video_id)\n",
    "                os.makedirs(test_dir, exist_ok=True)\n",
    "                vidToFrame(video_file, test_dir)\n",
    "                print('test', video_id)"
   ]
  },
  {
   "cell_type": "code",
   "execution_count": 2,
   "id": "aa9181be",
   "metadata": {},
   "outputs": [],
   "source": [
    "import mediapipe as mp\n",
    "import tensorflow as tf\n",
    "import keras\n",
    "import numpy as np\n",
    "import pandas as pd\n",
    "import os\n",
    "import shutil\n",
    "import datetime as dt\n",
    "import matplotlib.pyplot as plt\n",
    "import seaborn as sns\n",
    "from tqdm import tqdm\n",
    "import glob\n",
    "import cv2\n",
    "from keras.utils import to_categorical\n",
    "from keras.models import Sequential\n",
    "from keras.layers import Bidirectional, LSTM, Dense\n",
    "from keras.callbacks import EarlyStopping\n",
    "from sklearn.metrics import multilabel_confusion_matrix, accuracy_score\n",
    "from sklearn.model_selection import train_test_split\n",
    "np.random.seed(42)"
   ]
  },
  {
   "cell_type": "code",
   "execution_count": 3,
   "id": "ad363b2d",
   "metadata": {},
   "outputs": [],
   "source": [
    "mp_holistic = mp.solutions.holistic\n",
    "\n",
    "mp_drawing = mp.solutions.drawing_utils"
   ]
  },
  {
   "cell_type": "code",
   "execution_count": 4,
   "id": "c8585313",
   "metadata": {},
   "outputs": [],
   "source": [
    "def mediapipe_detection(image, model):\n",
    "    if image is None:\n",
    "        raise ValueError(f\"Failed to load image: {image}\")\n",
    "    image = cv2.cvtColor(image, cv2.COLOR_BGR2RGB) # COLOR CONVERSION BGR 2 RGB\n",
    "    image.flags.writeable = False                  # Image is no longer writeable\n",
    "    results = model.process(image)                 # Make prediction\n",
    "    image.flags.writeable = True                   # Image is now writeable\n",
    "    image = cv2.cvtColor(image, cv2.COLOR_RGB2BGR) # COLOR COVERSION RGB 2 BGR\n",
    "    return image, results"
   ]
  },
  {
   "cell_type": "code",
   "execution_count": 5,
   "id": "41c23e07",
   "metadata": {},
   "outputs": [],
   "source": [
    "def draw_styled_landmarks(image, results):\n",
    "\n",
    "    # Draw pose connections\n",
    "    mp_drawing.draw_landmarks(image, results.pose_landmarks, mp_holistic.POSE_CONNECTIONS,\n",
    "                             mp_drawing.DrawingSpec(color=(80,22,10), thickness=2, circle_radius=4),\n",
    "                             mp_drawing.DrawingSpec(color=(80,44,121), thickness=2, circle_radius=2)\n",
    "                             )\n",
    "    # Draw left hand connections\n",
    "    mp_drawing.draw_landmarks(image, results.left_hand_landmarks, mp_holistic.HAND_CONNECTIONS,\n",
    "                             mp_drawing.DrawingSpec(color=(121,22,76), thickness=2, circle_radius=4),\n",
    "                             mp_drawing.DrawingSpec(color=(121,44,250), thickness=2, circle_radius=2)\n",
    "                             )\n",
    "    # Draw right hand connections\n",
    "    mp_drawing.draw_landmarks(image, results.right_hand_landmarks, mp_holistic.HAND_CONNECTIONS,\n",
    "                             mp_drawing.DrawingSpec(color=(245,117,66), thickness=2, circle_radius=4),\n",
    "                             mp_drawing.DrawingSpec(color=(245,66,230), thickness=2, circle_radius=2)\n",
    "                             )"
   ]
  },
  {
   "cell_type": "code",
   "execution_count": 6,
   "id": "1afce531",
   "metadata": {},
   "outputs": [],
   "source": [
    "def adjust_landmarks(arr,center):\n",
    "\n",
    "    # Reshape the array to have shape (n, 3)\n",
    "    arr_reshaped = arr.reshape(-1, 3)\n",
    "\n",
    "    # Repeat the center array to have shape (n, 3)\n",
    "    center_repeated = np.tile(center, (len(arr_reshaped), 1))\n",
    "\n",
    "    # Subtract the center array from the arr array\n",
    "    arr_adjusted = arr_reshaped - center_repeated\n",
    "\n",
    "    # Reshape arr_adjusted back to shape (n*3,)\n",
    "    arr_adjusted = arr_adjusted.reshape(-1)\n",
    "    return(arr_adjusted)"
   ]
  },
  {
   "cell_type": "code",
   "execution_count": 7,
   "id": "589d4173",
   "metadata": {},
   "outputs": [],
   "source": [
    "def extract_keypoints(results):\n",
    "\n",
    "    pose = np.array([[res.x, res.y, res.z] for res in results.pose_landmarks.landmark]).flatten() if results.pose_landmarks else np.zeros(33*3)\n",
    "    lh = np.array([[res.x, res.y, res.z] for res in results.left_hand_landmarks.landmark]).flatten() if results.left_hand_landmarks else np.zeros(21*3)\n",
    "    rh = np.array([[res.x, res.y, res.z] for res in results.right_hand_landmarks.landmark]).flatten() if results.right_hand_landmarks else np.zeros(21*3)\n",
    "    nose=pose[:3]\n",
    "    lh_wrist=lh[:3]\n",
    "    rh_wrist=rh[:3]\n",
    "    pose_adjusted = adjust_landmarks(pose,nose)\n",
    "    lh_adjusted = adjust_landmarks(lh,lh_wrist)\n",
    "    rh_adjusted = adjust_landmarks(rh,rh_wrist)\n",
    "    return pose_adjusted, lh_adjusted, rh_adjusted"
   ]
  },
  {
   "cell_type": "code",
   "execution_count": 8,
   "id": "f7658e67",
   "metadata": {},
   "outputs": [
    {
     "name": "stdout",
     "output_type": "stream",
     "text": [
      "Selected Words: 10\n"
     ]
    }
   ],
   "source": [
    "import os\n",
    "from bisect import bisect_left\n",
    "\n",
    "selected_words_train = os.listdir('Dataset/frames/Train')\n",
    "selected_words_test = os.listdir('Dataset/frames/Test') \n",
    "selected_words = []\n",
    "\n",
    "def binarySearch(array_name, dir_name):\n",
    "    i = bisect_left(array_name, dir_name)\n",
    "    dir_path = os.path.join('Dataset/frames/Train', dir_name)  # Update the path to the Train folder\n",
    "    if i != len(array_name) and os.path.exists(dir_path):\n",
    "        selected_words.append(dir_name)\n",
    "\n",
    "for word_test in selected_words_test:\n",
    "    binarySearch(selected_words_train, word_test)\n",
    "\n",
    "print(\"Selected Words:\", len(selected_words))\n"
   ]
  },
  {
   "cell_type": "code",
   "execution_count": 9,
   "id": "a7eef857",
   "metadata": {
    "scrolled": true
   },
   "outputs": [
    {
     "name": "stdout",
     "output_type": "stream",
     "text": [
      "0\n"
     ]
    },
    {
     "name": "stderr",
     "output_type": "stream",
     "text": [
      "0it [00:00, ?it/s]\n"
     ]
    },
    {
     "name": "stdout",
     "output_type": "stream",
     "text": [
      "0\n"
     ]
    },
    {
     "name": "stderr",
     "output_type": "stream",
     "text": [
      "0it [00:00, ?it/s]"
     ]
    },
    {
     "name": "stdout",
     "output_type": "stream",
     "text": [
      "['a' 'a lot' 'abdomen' 'able' 'about' 'above' 'accent' 'accept' 'accident'\n",
      " 'accomplish']\n",
      "10\n",
      "{'a': 0, 'a lot': 1, 'abdomen': 2, 'able': 3, 'about': 4, 'above': 5, 'accent': 6, 'accept': 7, 'accident': 8, 'accomplish': 9}\n"
     ]
    },
    {
     "name": "stderr",
     "output_type": "stream",
     "text": [
      "\n"
     ]
    }
   ],
   "source": [
    "def make_keypoint_arrays(path,split):\n",
    "\n",
    "    os.makedirs('Dataset/npy_arrays',exist_ok = True)\n",
    "    os.makedirs(f'Dataset/npy_arrays/{split}',exist_ok = True)\n",
    "    working_path = f'Dataset/npy_arrays/{split}'\n",
    "    words_folder = os.path.join(path, split)\n",
    "    selected_words1=[]\n",
    "    for words1 in selected_words:\n",
    "        npy_fold = os.listdir(os.path.join(working_path))\n",
    "        if words1 not in npy_fold:\n",
    "            selected_words1.append(words1)\n",
    "    print(len(selected_words1))\n",
    "\n",
    "    i=1\n",
    "    \n",
    "    # Loop through all the subfolders in the folder\n",
    "    for word in tqdm(selected_words1):\n",
    "        npy_fold = os.listdir(os.path.join(working_path))\n",
    "        if word not in npy_fold:            \n",
    "            video_files = os.listdir(os.path.join(words_folder, word))\n",
    "              # Loop through the video files\n",
    "            for video_file in video_files:\n",
    "                    # Open the video file\n",
    "                video = sorted(os.listdir(os.path.join(words_folder, word, video_file)))\n",
    "        \n",
    "                # Initialize the list of keypoints for this video\n",
    "                pose_keypoints, lh_keypoints, rh_keypoints = [], [], []\n",
    "                with mp_holistic.Holistic(min_detection_confidence=0.5, min_tracking_confidence=0.5) as holistic:\n",
    "                  # Loop through the video frames\n",
    "                  for frame in video:\n",
    "                      # Perform any necessary preprocessing on the frame (e.g., resizing, normalization)\n",
    "                    frame = os.path.join(words_folder, word, video_file,frame)\n",
    "                    frame = cv2.imread(frame)\n",
    "        #                 frame = cv2.cvtColor(frame, cv2.COLOR_BGR2RGB)\n",
    "                    \n",
    "                      # Normalize pixel values to the range [0, 1]\n",
    "                    # Make detections\n",
    "                    image, results = mediapipe_detection(frame, holistic)\n",
    "        \n",
    "                    # Extract keypoints\n",
    "                    pose, lh, rh = extract_keypoints(results)\n",
    "                    # Add the keypoints to the list for this video\n",
    "                    pose_keypoints.append(pose)\n",
    "                    lh_keypoints.append(lh)\n",
    "                    rh_keypoints.append(rh)           \n",
    "                    # Save the keypoints for this video to a numpy array\n",
    "                    pose_directory = os.path.join(working_path, word,'pose_keypoints')\n",
    "                    lh_directory = os.path.join(working_path, word,'lh_keypoints')\n",
    "                    rh_directory = os.path.join(working_path, word,'rh_keypoints')\n",
    "        \n",
    "                    if not os.path.exists(pose_directory):\n",
    "                        os.makedirs(pose_directory)\n",
    "        \n",
    "                    if not os.path.exists(lh_directory):\n",
    "                        os.makedirs(lh_directory)\n",
    "        \n",
    "                    if not os.path.exists(rh_directory):\n",
    "                        os.makedirs(rh_directory)\n",
    "        \n",
    "                    pose_path = os.path.join(pose_directory, video_file)\n",
    "                    np.save(pose_path, pose_keypoints)\n",
    "        \n",
    "                    lh_path = os.path.join(lh_directory, video_file)\n",
    "                    np.save(lh_path, lh_keypoints)\n",
    "        \n",
    "                    rh_path = os.path.join(rh_directory, video_file)\n",
    "                    np.save(rh_path, rh_keypoints)\n",
    "            else:\n",
    "                continue\n",
    "\n",
    "make_keypoint_arrays('./Dataset/frames','Train/')\n",
    "make_keypoint_arrays('./Dataset/frames','Test/')\n",
    "\n",
    "words= np.array(os.listdir('./Dataset/frames/Train'))\n",
    "print(words)\n",
    "print(len(words))\n",
    "\n",
    "label_map = {label:num for num, label in enumerate(selected_words)}\n",
    "print(label_map)"
   ]
  },
  {
   "cell_type": "code",
   "execution_count": 10,
   "id": "7cd7b1c3",
   "metadata": {},
   "outputs": [],
   "source": [
    "def preprocess_data(data_path,split,f_avg):\n",
    "\n",
    "    # Initialize the lists of sequences and labels\n",
    "    sequences = []\n",
    "    labels = []\n",
    "    \n",
    "    # Iterate over the words\n",
    "    for word in tqdm(selected_words):\n",
    "        word_path = os.path.join(data_path, split, word)\n",
    "        word_id = os.path.basename(word_path).zfill(4)\n",
    "    \n",
    "        lh_keypoints_folder = os.path.join(word_path, \"lh_keypoints\")\n",
    "        rh_keypoints_folder = os.path.join(word_path, \"rh_keypoints\")\n",
    "        pose_keypoints_folder = os.path.join(word_path, \"pose_keypoints\")\n",
    "    \n",
    "        # Iterate through the sequences (numpy arrays) contained in the lh_keypoints folder\n",
    "        for sequence in os.listdir(lh_keypoints_folder):\n",
    "            # Load the left hand array\n",
    "            res_lh = np.load(os.path.join(lh_keypoints_folder, sequence))\n",
    "    \n",
    "            # Determine how many frames to select\n",
    "            num_frames = min(res_lh.shape[0], f_avg)\n",
    "            res_lh = res_lh[:num_frames, :]\n",
    "            while num_frames < f_avg:\n",
    "                res_lh = np.concatenate((res_lh, np.expand_dims(res_lh[-1, :], axis=0)), axis=0)\n",
    "                num_frames += 1\n",
    "    \n",
    "            # Load the right hand array\n",
    "            res_rh = np.load(os.path.join(rh_keypoints_folder, sequence))\n",
    "    \n",
    "            # Determine how many frames to select\n",
    "            num_frames = min(res_rh.shape[0], f_avg)\n",
    "            res_rh = res_rh[:num_frames, :]\n",
    "            while num_frames < f_avg:\n",
    "                res_rh = np.concatenate((res_rh, np.expand_dims(res_rh[-1, :], axis=0)), axis=0)\n",
    "                num_frames += 1\n",
    "    \n",
    "            # Load the pose array\n",
    "            res_pose = np.load(os.path.join(pose_keypoints_folder, sequence))\n",
    "    \n",
    "            # Determine how many frames to select\n",
    "            num_frames = min(res_pose.shape[0], f_avg)\n",
    "            res_pose = res_pose[:num_frames, :]\n",
    "            while num_frames < f_avg:\n",
    "                res_pose = np.concatenate((res_pose, np.expand_dims(res_pose[-1, :], axis=0)), axis=0)\n",
    "                num_frames += 1\n",
    "    \n",
    "            # Append the subsequence to the list of sequences\n",
    "            sequences.append(np.concatenate((res_pose, res_lh, res_rh), axis=1))\n",
    "            # Append the label to the list of labels\n",
    "            labels.append(label_map[word])\n",
    "    \n",
    "    # Convert the lists of sequences and labels to numpy arrays\n",
    "    X = np.array(sequences)\n",
    "    y = to_categorical(labels).astype(int)\n",
    "    \n",
    "    return X, y"
   ]
  },
  {
   "cell_type": "code",
   "execution_count": 11,
   "id": "b12c7171",
   "metadata": {},
   "outputs": [],
   "source": [
    "data_path = './Dataset/npy_arrays/'"
   ]
  },
  {
   "cell_type": "code",
   "execution_count": 12,
   "id": "2d4440b2",
   "metadata": {},
   "outputs": [
    {
     "name": "stderr",
     "output_type": "stream",
     "text": [
      "100%|██████████████████████████████████████████████████████████████████████████████████| 10/10 [00:00<00:00, 65.25it/s]"
     ]
    },
    {
     "name": "stdout",
     "output_type": "stream",
     "text": [
      "(28, 48, 225)\n",
      "(28, 10)\n",
      "(19, 48, 225)\n",
      "(19, 10)\n"
     ]
    },
    {
     "name": "stderr",
     "output_type": "stream",
     "text": [
      "\n"
     ]
    }
   ],
   "source": [
    "chk = './Dataset/npy_arrays/Train/'\n",
    "X_train,y_train=preprocess_data(data_path,'Train',48)\n",
    "X_train, X_val, y_train, y_val = train_test_split(X_train, y_train, test_size=0.4, random_state=42)\n",
    "print(X_train.shape)\n",
    "print(y_train.shape)\n",
    "print(X_val.shape)\n",
    "print(y_val.shape)"
   ]
  },
  {
   "cell_type": "code",
   "execution_count": 13,
   "id": "f1f389ec",
   "metadata": {},
   "outputs": [
    {
     "name": "stderr",
     "output_type": "stream",
     "text": [
      "100%|█████████████████████████████████████████████████████████████████████████████████| 10/10 [00:00<00:00, 200.54it/s]"
     ]
    },
    {
     "name": "stdout",
     "output_type": "stream",
     "text": [
      "(17, 48, 225)\n",
      "(17, 10)\n"
     ]
    },
    {
     "name": "stderr",
     "output_type": "stream",
     "text": [
      "\n"
     ]
    }
   ],
   "source": [
    "X_test,y_test=preprocess_data(data_path,'Test',48)\n",
    "\n",
    "print(X_test.shape)\n",
    "print(y_test.shape)"
   ]
  },
  {
   "cell_type": "code",
   "execution_count": 14,
   "id": "35dc9863",
   "metadata": {},
   "outputs": [],
   "source": [
    "from tensorflow import keras\n",
    "from tensorflow.keras.models import Sequential\n",
    "from tensorflow.keras.layers import Conv1D, MaxPooling2D, Flatten , BatchNormalization\n",
    "from tensorflow.keras.layers import Dense, Activation, Dropout\n",
    "from tensorflow.keras.optimizers import Adam, SGD, RMSprop\n",
    "from sklearn.metrics import confusion_matrix\n",
    "from tensorflow.keras import regularizers\n"
   ]
  },
  {
   "cell_type": "code",
   "execution_count": 15,
   "id": "2cb088b5",
   "metadata": {},
   "outputs": [
    {
     "name": "stdout",
     "output_type": "stream",
     "text": [
      "10\n",
      "Model: \"sequential\"\n",
      "_________________________________________________________________\n",
      " Layer (type)                Output Shape              Param #   \n",
      "=================================================================\n",
      " bidirectional (Bidirectiona  (None, 48, 512)          987136    \n",
      " l)                                                              \n",
      "                                                                 \n",
      " bidirectional_1 (Bidirectio  (None, 48, 256)          656384    \n",
      " nal)                                                            \n",
      "                                                                 \n",
      " batch_normalization (BatchN  (None, 48, 256)          1024      \n",
      " ormalization)                                                   \n",
      "                                                                 \n",
      " dropout (Dropout)           (None, 48, 256)           0         \n",
      "                                                                 \n",
      " lstm_2 (LSTM)               (None, 48, 64)            82176     \n",
      "                                                                 \n",
      " batch_normalization_1 (Batc  (None, 48, 64)           256       \n",
      " hNormalization)                                                 \n",
      "                                                                 \n",
      " dropout_1 (Dropout)         (None, 48, 64)            0         \n",
      "                                                                 \n",
      " lstm_3 (LSTM)               (None, 48, 16)            5184      \n",
      "                                                                 \n",
      " flatten (Flatten)           (None, 768)               0         \n",
      "                                                                 \n",
      " dropout_2 (Dropout)         (None, 768)               0         \n",
      "                                                                 \n",
      " dense (Dense)               (None, 64)                49216     \n",
      "                                                                 \n",
      " dense_1 (Dense)             (None, 10)                650       \n",
      "                                                                 \n",
      "=================================================================\n",
      "Total params: 1,782,026\n",
      "Trainable params: 1,781,386\n",
      "Non-trainable params: 640\n",
      "_________________________________________________________________\n"
     ]
    }
   ],
   "source": [
    "## model part\n",
    "# model = tf.keras.Sequential([\n",
    "#     tf.keras.layers.Bidirectional(tf.keras.layers.LSTM(64, return_sequences=True)),\n",
    "#     tf.keras.layers.Bidirectional(tf.keras.layers.LSTM(64)),\n",
    "#     tf.keras.layers.Bidirectional(tf.keras.layers.LSTM(64)),\n",
    "#     tf.keras.layers.Dense(32, activation='relu'),\n",
    "#     tf.keras.layers.Dense(len(words), activation='softmax')\n",
    "# ])\n",
    "timesteps = 48\n",
    "input_features = len(selected_words)\n",
    "embedding_dim =  225\n",
    "\n",
    "print(len(selected_words))\n",
    "# model = Sequential()\n",
    "# model.add(Bidirectional(LSTM(units=64, return_sequences=True), input_shape=(48, embedding_dim)))\n",
    "# model.add(Bidirectional(LSTM(units=64, return_sequences=True)))\n",
    "# model.add(Dense(32, activation='relu'))\n",
    "\n",
    "# # Bidirectional LSTM layer with input shape (timesteps, input_features)\n",
    "# model.add(LSTM(units=128, return_sequences=True , input_shape=(timesteps, embedding_dim)))\n",
    "# model.add(Dropout(0.2))\n",
    "# model.add(LSTM(units=64, return_sequences=True))\n",
    "# model.add(LSTM(units=16, return_sequences=True))\n",
    "\n",
    "\n",
    "# # # Flatten layer\n",
    "# model.add(Flatten())\n",
    "\n",
    "# # Dense layers\n",
    "# # model.add(Dense(128, activation='relu'))\n",
    "# model.add(Dropout(0.2))\n",
    "# model.add(Dense(64, activation='relu'))\n",
    "# model.add(Dense(input_features, activation='softmax'))\n",
    "\n",
    "model = Sequential()\n",
    "\n",
    "model.add(Bidirectional(LSTM(units=256, return_sequences=True), input_shape=(48, embedding_dim)))\n",
    "model.add(Bidirectional(LSTM(units=128, return_sequences=True)))\n",
    "model.add(BatchNormalization())\n",
    "model.add(Dropout(0.2))\n",
    "model.add(LSTM(units=64, return_sequences=True))\n",
    "model.add(BatchNormalization())\n",
    "model.add(Dropout(0.4))\n",
    "model.add(LSTM(units=16, return_sequences=True))\n",
    "\n",
    "# Flatten layer\n",
    "model.add(Flatten())\n",
    "\n",
    "# Dense layers\n",
    "model.add(Dropout(0.3))\n",
    "model.add(Dense(64, activation='relu'))\n",
    "model.add(Dense(input_features, activation='softmax'))\n",
    "\n",
    "# Compile the model\n",
    "new_learning_rate = 0.00045\n",
    "model.compile(optimizer=Adam(learning_rate=new_learning_rate), loss='categorical_crossentropy', metrics=['categorical_accuracy'])\n",
    "# Set up early stopping\n",
    "early_stopping = tf.keras.callbacks.EarlyStopping(\n",
    "    monitor='val_loss',  # Metric to monitor for early stopping\n",
    "    mode='min',  # Set mode to 'min' for minimizing the metric\n",
    "    patience=15,  # Number of epochs with no improvement before stopping\n",
    "    restore_best_weights=True,  # Restore the best model weights\n",
    "    verbose=1\n",
    ")\n",
    "model.summary()"
   ]
  },
  {
   "cell_type": "code",
   "execution_count": 27,
   "id": "bab2d155",
   "metadata": {},
   "outputs": [
    {
     "data": {
      "text/plain": [
       "(4769, 48, 225)"
      ]
     },
     "execution_count": 27,
     "metadata": {},
     "output_type": "execute_result"
    }
   ],
   "source": [
    "X_train.shape"
   ]
  },
  {
   "cell_type": "code",
   "execution_count": 28,
   "id": "c0340a6b",
   "metadata": {},
   "outputs": [
    {
     "data": {
      "text/plain": [
       "(4769, 1914)"
      ]
     },
     "execution_count": 28,
     "metadata": {},
     "output_type": "execute_result"
    }
   ],
   "source": [
    "y_train.shape "
   ]
  },
  {
   "cell_type": "code",
   "execution_count": 29,
   "id": "4497381a",
   "metadata": {
    "scrolled": true
   },
   "outputs": [
    {
     "name": "stdout",
     "output_type": "stream",
     "text": [
      "Epoch 1/50\n",
      "150/150 [==============================] - 13s 55ms/step - loss: 7.5673 - categorical_accuracy: 4.1938e-04 - val_loss: 7.5650 - val_categorical_accuracy: 0.0000e+00\n",
      "Epoch 2/50\n",
      "150/150 [==============================] - 5s 31ms/step - loss: 7.2458 - categorical_accuracy: 0.0017 - val_loss: 7.5244 - val_categorical_accuracy: 6.2893e-04\n",
      "Epoch 3/50\n",
      "150/150 [==============================] - 5s 31ms/step - loss: 6.9258 - categorical_accuracy: 0.0048 - val_loss: 7.5942 - val_categorical_accuracy: 0.0022\n",
      "Epoch 4/50\n",
      "150/150 [==============================] - 5s 32ms/step - loss: 6.6942 - categorical_accuracy: 0.0052 - val_loss: 7.7040 - val_categorical_accuracy: 0.0025\n",
      "Epoch 5/50\n",
      "150/150 [==============================] - 5s 33ms/step - loss: 6.4628 - categorical_accuracy: 0.0086 - val_loss: 7.8100 - val_categorical_accuracy: 0.0035\n",
      "Epoch 6/50\n",
      "150/150 [==============================] - 4s 28ms/step - loss: 6.2217 - categorical_accuracy: 0.0132 - val_loss: 8.5483 - val_categorical_accuracy: 0.0022\n",
      "Epoch 7/50\n",
      "150/150 [==============================] - 4s 28ms/step - loss: 5.9968 - categorical_accuracy: 0.0166 - val_loss: 8.6567 - val_categorical_accuracy: 0.0028\n",
      "Epoch 8/50\n",
      "150/150 [==============================] - 4s 30ms/step - loss: 5.7475 - categorical_accuracy: 0.0233 - val_loss: 8.7040 - val_categorical_accuracy: 0.0047\n",
      "Epoch 9/50\n",
      "150/150 [==============================] - 5s 30ms/step - loss: 5.5256 - categorical_accuracy: 0.0300 - val_loss: 9.0475 - val_categorical_accuracy: 0.0038\n",
      "Epoch 10/50\n",
      "150/150 [==============================] - 4s 29ms/step - loss: 5.3308 - categorical_accuracy: 0.0350 - val_loss: 9.2500 - val_categorical_accuracy: 0.0041\n",
      "Epoch 11/50\n",
      "150/150 [==============================] - 5s 31ms/step - loss: 5.1470 - categorical_accuracy: 0.0442 - val_loss: 9.6704 - val_categorical_accuracy: 0.0069\n",
      "Epoch 12/50\n",
      "150/150 [==============================] - 5s 31ms/step - loss: 4.9375 - categorical_accuracy: 0.0497 - val_loss: 9.7127 - val_categorical_accuracy: 0.0104\n",
      "Epoch 13/50\n",
      "150/150 [==============================] - 5s 31ms/step - loss: 4.7552 - categorical_accuracy: 0.0602 - val_loss: 10.0628 - val_categorical_accuracy: 0.0123\n",
      "Epoch 14/50\n",
      "150/150 [==============================] - 5s 30ms/step - loss: 4.5662 - categorical_accuracy: 0.0749 - val_loss: 11.0479 - val_categorical_accuracy: 0.0091\n",
      "Epoch 15/50\n",
      "150/150 [==============================] - 4s 29ms/step - loss: 4.4036 - categorical_accuracy: 0.0916 - val_loss: 11.9237 - val_categorical_accuracy: 0.0088\n",
      "Epoch 16/50\n",
      "150/150 [==============================] - 4s 29ms/step - loss: 4.2999 - categorical_accuracy: 0.0958 - val_loss: 11.1864 - val_categorical_accuracy: 0.0101\n",
      "Epoch 17/50\n",
      "150/150 [==============================] - 5s 31ms/step - loss: 4.1239 - categorical_accuracy: 0.1160 - val_loss: 11.4603 - val_categorical_accuracy: 0.0110\n",
      "Epoch 18/50\n",
      "150/150 [==============================] - 5s 33ms/step - loss: 4.0927 - categorical_accuracy: 0.1185 - val_loss: 12.5978 - val_categorical_accuracy: 0.0094\n",
      "Epoch 19/50\n",
      "150/150 [==============================] - 5s 32ms/step - loss: 3.8706 - categorical_accuracy: 0.1459 - val_loss: 12.1960 - val_categorical_accuracy: 0.0126\n",
      "Epoch 20/50\n",
      "150/150 [==============================] - 4s 29ms/step - loss: 3.7496 - categorical_accuracy: 0.1503 - val_loss: 13.5091 - val_categorical_accuracy: 0.0116\n",
      "Epoch 21/50\n",
      "150/150 [==============================] - 4s 28ms/step - loss: 3.6357 - categorical_accuracy: 0.1663 - val_loss: 13.6897 - val_categorical_accuracy: 0.0069\n",
      "Epoch 22/50\n",
      "150/150 [==============================] - 4s 29ms/step - loss: 3.6226 - categorical_accuracy: 0.1654 - val_loss: 13.4141 - val_categorical_accuracy: 0.0157\n",
      "Epoch 23/50\n",
      "150/150 [==============================] - 4s 30ms/step - loss: 3.4495 - categorical_accuracy: 0.1942 - val_loss: 13.7772 - val_categorical_accuracy: 0.0142\n",
      "Epoch 24/50\n",
      "150/150 [==============================] - 5s 31ms/step - loss: 3.3423 - categorical_accuracy: 0.2026 - val_loss: 14.3336 - val_categorical_accuracy: 0.0132\n",
      "Epoch 25/50\n",
      "150/150 [==============================] - 5s 31ms/step - loss: 3.2623 - categorical_accuracy: 0.2200 - val_loss: 14.7432 - val_categorical_accuracy: 0.0142\n",
      "Epoch 26/50\n",
      "150/150 [==============================] - 5s 31ms/step - loss: 3.1341 - categorical_accuracy: 0.2399 - val_loss: 15.3942 - val_categorical_accuracy: 0.0129\n",
      "Epoch 27/50\n",
      "150/150 [==============================] - 5s 30ms/step - loss: 3.0771 - categorical_accuracy: 0.2544 - val_loss: 16.7820 - val_categorical_accuracy: 0.0126\n",
      "Epoch 28/50\n",
      "150/150 [==============================] - 5s 30ms/step - loss: 3.0431 - categorical_accuracy: 0.2541 - val_loss: 16.4373 - val_categorical_accuracy: 0.0129\n",
      "Epoch 29/50\n",
      "150/150 [==============================] - 5s 30ms/step - loss: 2.9723 - categorical_accuracy: 0.2600 - val_loss: 15.3022 - val_categorical_accuracy: 0.0123\n",
      "Epoch 30/50\n",
      "150/150 [==============================] - 4s 29ms/step - loss: 2.8169 - categorical_accuracy: 0.2910 - val_loss: 15.9441 - val_categorical_accuracy: 0.0151\n",
      "Epoch 31/50\n",
      "150/150 [==============================] - 4s 30ms/step - loss: 2.8005 - categorical_accuracy: 0.2929 - val_loss: 16.6826 - val_categorical_accuracy: 0.0135\n",
      "Epoch 32/50\n",
      "150/150 [==============================] - 5s 31ms/step - loss: 2.6676 - categorical_accuracy: 0.3150 - val_loss: 16.5651 - val_categorical_accuracy: 0.0170\n",
      "Epoch 33/50\n",
      "150/150 [==============================] - 4s 30ms/step - loss: 2.5733 - categorical_accuracy: 0.3414 - val_loss: 17.6699 - val_categorical_accuracy: 0.0179\n",
      "Epoch 34/50\n",
      "150/150 [==============================] - 4s 29ms/step - loss: 2.5228 - categorical_accuracy: 0.3470 - val_loss: 17.4637 - val_categorical_accuracy: 0.0186\n",
      "Epoch 35/50\n",
      "150/150 [==============================] - 4s 29ms/step - loss: 2.4918 - categorical_accuracy: 0.3540 - val_loss: 18.2515 - val_categorical_accuracy: 0.0167\n",
      "Epoch 36/50\n",
      "150/150 [==============================] - 4s 30ms/step - loss: 2.4067 - categorical_accuracy: 0.3714 - val_loss: 18.0190 - val_categorical_accuracy: 0.0167\n",
      "Epoch 37/50\n",
      "150/150 [==============================] - 4s 29ms/step - loss: 2.3131 - categorical_accuracy: 0.3892 - val_loss: 18.7854 - val_categorical_accuracy: 0.0167\n",
      "Epoch 38/50\n",
      "150/150 [==============================] - 5s 32ms/step - loss: 2.3164 - categorical_accuracy: 0.3888 - val_loss: 18.9236 - val_categorical_accuracy: 0.0160\n",
      "Epoch 39/50\n",
      "150/150 [==============================] - 5s 31ms/step - loss: 2.2854 - categorical_accuracy: 0.3946 - val_loss: 18.6749 - val_categorical_accuracy: 0.0164\n",
      "Epoch 40/50\n",
      "150/150 [==============================] - 5s 32ms/step - loss: 2.2421 - categorical_accuracy: 0.4024 - val_loss: 19.5647 - val_categorical_accuracy: 0.0179\n",
      "Epoch 41/50\n",
      "150/150 [==============================] - 5s 31ms/step - loss: 2.0983 - categorical_accuracy: 0.4385 - val_loss: 19.5544 - val_categorical_accuracy: 0.0154\n",
      "Epoch 42/50\n",
      "150/150 [==============================] - 4s 27ms/step - loss: 2.0834 - categorical_accuracy: 0.4481 - val_loss: 19.1521 - val_categorical_accuracy: 0.0186\n",
      "Epoch 43/50\n",
      "150/150 [==============================] - 4s 28ms/step - loss: 2.0350 - categorical_accuracy: 0.4458 - val_loss: 20.6830 - val_categorical_accuracy: 0.0160\n",
      "Epoch 44/50\n",
      "150/150 [==============================] - 5s 30ms/step - loss: 1.9578 - categorical_accuracy: 0.4611 - val_loss: 20.4777 - val_categorical_accuracy: 0.0160\n",
      "Epoch 45/50\n",
      "150/150 [==============================] - 4s 30ms/step - loss: 2.0134 - categorical_accuracy: 0.4456 - val_loss: 20.9726 - val_categorical_accuracy: 0.0173\n",
      "Epoch 46/50\n",
      "150/150 [==============================] - 4s 30ms/step - loss: 1.9476 - categorical_accuracy: 0.4743 - val_loss: 20.1603 - val_categorical_accuracy: 0.0179\n",
      "Epoch 47/50\n",
      "150/150 [==============================] - 5s 30ms/step - loss: 1.8888 - categorical_accuracy: 0.4850 - val_loss: 21.4830 - val_categorical_accuracy: 0.0211\n",
      "Epoch 48/50\n",
      "150/150 [==============================] - 4s 30ms/step - loss: 1.8128 - categorical_accuracy: 0.5030 - val_loss: 21.6143 - val_categorical_accuracy: 0.0201\n",
      "Epoch 49/50\n",
      "150/150 [==============================] - 4s 28ms/step - loss: 1.7743 - categorical_accuracy: 0.5079 - val_loss: 22.3911 - val_categorical_accuracy: 0.0204\n",
      "Epoch 50/50\n",
      "150/150 [==============================] - 4s 28ms/step - loss: 1.6683 - categorical_accuracy: 0.5408 - val_loss: 22.4015 - val_categorical_accuracy: 0.0186\n"
     ]
    }
   ],
   "source": [
    "# train model\n",
    "model_training_history = model.fit(X_train, y_train, batch_size=32, validation_data=(X_val,y_val), validation_batch_size=32, epochs=50)"
   ]
  },
  {
   "cell_type": "code",
   "execution_count": 30,
   "id": "0e180862",
   "metadata": {},
   "outputs": [
    {
     "name": "stdout",
     "output_type": "stream",
     "text": [
      "Train Loss: 1.258982, Accuracy: 0.669323\n"
     ]
    }
   ],
   "source": [
    "# Evaluate the model on test data\n",
    "print('Train Loss: {:.6f}, Accuracy: {:.6f}'.format(*model.evaluate(X_train, y_train, verbose=0)))"
   ]
  },
  {
   "cell_type": "code",
   "execution_count": 31,
   "id": "9ab1361a",
   "metadata": {},
   "outputs": [
    {
     "name": "stdout",
     "output_type": "stream",
     "text": [
      " Test Loss: 20.280115, Accuracy: 0.023173\n"
     ]
    }
   ],
   "source": [
    "# Evaluate the model on train data\n",
    "print(' Test Loss: {:.6f}, Accuracy: {:.6f}'.format(*model.evaluate(X_test, y_test, verbose=0)))\n",
    "# model_evaluation_history = model.evaluate(X_test, y_test)"
   ]
  },
  {
   "cell_type": "code",
   "execution_count": 20,
   "id": "cdd40247",
   "metadata": {},
   "outputs": [],
   "source": [
    "# function create plot\n",
    "def plot_metric(model_training_history, metric_name_1, metric_name_2, plot_name):\n",
    "\n",
    "\n",
    "    # Get metric values using metric names as identifiers.\n",
    "    metric_value_1 = model_training_history.history[metric_name_1]\n",
    "    metric_value_2 = model_training_history.history[metric_name_2]\n",
    "\n",
    "    # Construct a range object which will be used as x-axis (horizontal plane) of the graph.\n",
    "    epochs = range(len(metric_value_1))\n",
    "\n",
    "    # Plot the Graph.\n",
    "    plt.plot(epochs, metric_value_1, 'blue', label = metric_name_1)\n",
    "    plt.plot(epochs, metric_value_2, 'red', label = metric_name_2)\n",
    "\n",
    "    # Add title to the plot.\n",
    "    plt.title(str(plot_name))\n",
    "\n",
    "    # Add legend to the plot.\n",
    "    plt.legend()"
   ]
  },
  {
   "cell_type": "code",
   "execution_count": 21,
   "id": "0c854840",
   "metadata": {},
   "outputs": [
    {
     "name": "stdout",
     "output_type": "stream",
     "text": [
      "115/115 [==============================] - 2s 8ms/step\n"
     ]
    },
    {
     "ename": "NameError",
     "evalue": "name 'model_evaluation_history' is not defined",
     "output_type": "error",
     "traceback": [
      "\u001b[1;31m---------------------------------------------------------------------------\u001b[0m",
      "\u001b[1;31mNameError\u001b[0m                                 Traceback (most recent call last)",
      "Cell \u001b[1;32mIn[21], line 14\u001b[0m\n\u001b[0;32m     11\u001b[0m words[np\u001b[38;5;241m.\u001b[39margmax(y_test[\u001b[38;5;241m1\u001b[39m])]\n\u001b[0;32m     13\u001b[0m \u001b[38;5;66;03m# Get the loss and accuracy from model_evaluation_history.\u001b[39;00m\n\u001b[1;32m---> 14\u001b[0m model_evaluation_loss, model_evaluation_accuracy \u001b[38;5;241m=\u001b[39m \u001b[43mmodel_evaluation_history\u001b[49m\n\u001b[0;32m     16\u001b[0m \u001b[38;5;66;03m# Define the string date format.\u001b[39;00m\n\u001b[0;32m     17\u001b[0m \u001b[38;5;66;03m# Get the current Date and Time in a DateTime Object.\u001b[39;00m\n\u001b[0;32m     18\u001b[0m \u001b[38;5;66;03m# Convert the DateTime object to string according to the style mentioned in date_time_format string.\u001b[39;00m\n\u001b[0;32m     19\u001b[0m date_time_format \u001b[38;5;241m=\u001b[39m \u001b[38;5;124m'\u001b[39m\u001b[38;5;124m%\u001b[39m\u001b[38;5;124mY_\u001b[39m\u001b[38;5;124m%\u001b[39m\u001b[38;5;124mm_\u001b[39m\u001b[38;5;132;01m%d\u001b[39;00m\u001b[38;5;124m__\u001b[39m\u001b[38;5;124m%\u001b[39m\u001b[38;5;124mH_\u001b[39m\u001b[38;5;124m%\u001b[39m\u001b[38;5;124mM_\u001b[39m\u001b[38;5;124m%\u001b[39m\u001b[38;5;124mS\u001b[39m\u001b[38;5;124m'\u001b[39m\n",
      "\u001b[1;31mNameError\u001b[0m: name 'model_evaluation_history' is not defined"
     ]
    },
    {
     "data": {
      "image/png": "[encoded data removed]",
      "text/plain": [
       "<Figure size 640x480 with 1 Axes>"
      ]
     },
     "metadata": {},
     "output_type": "display_data"
    }
   ],
   "source": [
    "plot_metric(model_training_history, 'loss', 'val_loss', 'Total Loss vs Total Validation Loss')\n",
    "\n",
    "# Visualize the training and validation accuracy metrices.\n",
    "plot_metric(model_training_history, 'categorical_accuracy', 'val_categorical_accuracy', 'Total Accuracy vs Total Validation Accuracy')\n",
    "\n",
    "#Predicted sign\n",
    "res = model.predict(X_test)\n",
    "words[np.argmax(res[1])]\n",
    "\n",
    "#Real sign\n",
    "words[np.argmax(y_test[1])]\n",
    "\n",
    "# Get the loss and accuracy from model_evaluation_history.\n",
    "model_evaluation_loss, model_evaluation_accuracy = model_evaluation_history\n",
    "\n",
    "# Define the string date format.\n",
    "# Get the current Date and Time in a DateTime Object.\n",
    "# Convert the DateTime object to string according to the style mentioned in date_time_format string.\n",
    "date_time_format = '%Y_%m_%d__%H_%M_%S'\n",
    "current_date_time_dt = dt.datetime.now()\n",
    "current_date_time_string = dt.datetime.strftime(current_date_time_dt, date_time_format)"
   ]
  },
  {
   "cell_type": "code",
   "execution_count": null,
   "id": "570319ca",
   "metadata": {},
   "outputs": [],
   "source": [
    "model_file_name = f'ASL_Date_Time_{current_date_time_string}___Loss_{model_evaluation_loss}___Accuracy_{model_evaluation_accuracy}.h5'\n",
    "\n",
    "os.makedirs('working/Model',exist_ok=True)\n",
    "# Save your Model.\n",
    "model.save(f'working/Model/{model_file_name}')\n",
    "\n",
    "yhat = model.predict(X_test)\n",
    "\n",
    "def get_key_by_value(dictionary, value):\n",
    "    for key, val in dictionary.items():\n",
    "        if val == value:\n",
    "            return key\n",
    "    return None\n",
    "\n",
    "ytrue = np.argmax(y_test, axis=1).tolist()\n",
    "yhat = np.argmax(yhat, axis=1).tolist()\n",
    "\n",
    "y = []\n",
    "for v in ytrue:\n",
    "    y.append(get_key_by_value(label_map, v))\n",
    "print(y)\n",
    "\n",
    "\n",
    "\n",
    "ypred = []\n",
    "for v in yhat:\n",
    "    ypred.append(get_key_by_value(label_map, v))\n",
    "print(ypred)\n",
    "\n",
    "\n",
    "\n",
    "from sklearn.metrics import confusion_matrix\n",
    "import seaborn as sns\n",
    "import matplotlib.pyplot as plt\n",
    "\n",
    "# Assuming y and ypred are your target labels and predicted labels, respectively\n",
    "\n",
    "# Select the first 20 classes\n",
    "y_subset = y[:200]\n",
    "ypred_subset = ypred[:200]\n",
    "\n",
    "# Get unique class labels\n",
    "class_labels = np.unique(y_subset)\n",
    "\n",
    "# Compute confusion matrix\n",
    "cm = confusion_matrix(y_subset, ypred_subset, labels=class_labels)\n",
    "\n",
    "# Create a DataFrame from the confusion matrix\n",
    "df_cm = pd.DataFrame(cm, index=class_labels, columns=class_labels)\n",
    "df_cm.index.name = 'Actual'\n",
    "df_cm.columns.name = 'Predicted'\n",
    "\n",
    "# Plot the confusion matrix\n",
    "plt.figure(figsize=(10, 8))\n",
    "sns.set(font_scale=1.3)  # for label size\n",
    "sns.heatmap(df_cm, cmap=\"Blues\", annot=True, fmt=\"d\", annot_kws={\"size\": 12})\n",
    "plt.title(\"Confusion Matrix - First 20 Classes\")\n",
    "plt.show()"
   ]
  },
  {
   "cell_type": "code",
   "execution_count": null,
   "id": "b36506d8",
   "metadata": {},
   "outputs": [],
   "source": []
  }
 ],
 "metadata": {
  "kernelspec": {
   "display_name": "dl_env",
   "language": "python",
   "name": "dl_env"
  },
  "language_info": {
   "codemirror_mode": {
    "name": "ipython",
    "version": 3
   },
   "file_extension": ".py",
   "mimetype": "text/x-python",
   "name": "python",
   "nbconvert_exporter": "python",
   "pygments_lexer": "ipython3",
   "version": "3.10.13"
  }
 },
 "nbformat": 4,
 "nbformat_minor": 5
}
